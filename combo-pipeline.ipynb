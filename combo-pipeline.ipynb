{
 "cells": [
  {
   "cell_type": "markdown",
   "metadata": {},
   "source": [
    "# Import packages and data"
   ]
  },
  {
   "cell_type": "code",
   "execution_count": 1,
   "metadata": {
    "collapsed": true
   },
   "outputs": [],
   "source": [
    "from moviepy.editor import VideoFileClip\n",
    "from IPython.display import HTML\n",
    "import pickle\n",
    "from helper_functions import *\n",
    "from helpers_lanes import *\n",
    "from Vehicles import *\n",
    "from Line import *\n",
    "\n",
    "with open('svc.p', 'rb') as f:\n",
    "    dist_pickle = pickle.load(f)\n",
    "    svc = dist_pickle[\"svc\"]\n",
    "    X_scaler = dist_pickle[\"scaler\"]\n",
    "    orient = dist_pickle[\"orient\"]\n",
    "    pix_per_cell = dist_pickle[\"pix_per_cell\"]\n",
    "    cell_per_block = dist_pickle[\"cell_per_block\"]\n",
    "    spatial_size = dist_pickle[\"spatial_size\"]\n",
    "    hist_bins = dist_pickle[\"hist_bins\"]\n",
    "    \n",
    "with open('cam_cal.p', 'rb') as f:\n",
    "    dist_pickle = pickle.load(f)\n",
    "    mtx = dist_pickle[\"mtx\"]\n",
    "    dist = dist_pickle[\"dist\"]\n",
    "    del dist_pickle\n",
    "\n",
    "ystarts = [400, 400, 400, 400]\n",
    "ystops = [496, 528, 592, 656]\n",
    "scales = [1., 1.25, 1.5, 1.75]"
   ]
  },
  {
   "cell_type": "markdown",
   "metadata": {},
   "source": [
    "# Define pipeline function"
   ]
  },
  {
   "cell_type": "code",
   "execution_count": 2,
   "metadata": {
    "collapsed": true
   },
   "outputs": [],
   "source": [
    "def combo_pipeline(img, mtx, dist, left, right,\n",
    "                  cars, ystarts, ystops, scales,\n",
    "                  svc, X_scaler, orient, pix_per_cell,\n",
    "                  cell_per_block, spatial_size, hist_bins):\n",
    "    \n",
    "    img0 = undistort(img, mtx, dist)\n",
    "    \n",
    "    # Detect lane lines\n",
    "    img, Minv = warp(img0)\n",
    "    img = combine_threds(img)\n",
    "    \n",
    "    if left.detected and right.detected:\n",
    "        left_x, left_y, right_x, right_y = locate_lanes_skip_window(\n",
    "            img, left.current_fit, right.current_fit)\n",
    "        left_fitparam, right_fitparam = fit_poly(left_x, left_y, right_x, right_y)\n",
    "        left_fit_m, right_fit_m = fit_poly_m(left_x, left_y, right_x, right_y)\n",
    "        _, ploty, left_xfit, right_xfit = fit_poly_plot(\n",
    "            img, left_fitparam, right_fitparam, left_x, left_y, right_x, right_y)\n",
    "        left_curv, right_curv = get_curv_m(img, left_fit_m, right_fit_m)\n",
    "        left_dist, right_dist = dist2center_m(img, left_fitparam, right_fitparam)\n",
    "\n",
    "        if validate_lane(\n",
    "            left_curv, right_curv, left_dist, right_dist, left_fitparam, right_fitparam):\n",
    "            left.update_line(left_x, left_y, left_fitparam, left_xfit, left_curv, left_dist)\n",
    "            right.update_line(right_x, right_y, right_fitparam, right_xfit, right_curv, right_dist)\n",
    "        else:\n",
    "            left.detected = False\n",
    "            right.detected = False\n",
    "\n",
    "    else:\n",
    "        left_x, left_y, right_x, right_y = locate_lanes(img)\n",
    "        left_fitparam, right_fitparam = fit_poly(left_x, left_y, right_x, right_y)\n",
    "        left_fit_m, right_fit_m = fit_poly_m(left_x, left_y, right_x, right_y)\n",
    "        _, ploty, left_xfit, right_xfit = fit_poly_plot(\n",
    "            img, left_fitparam, right_fitparam, left_x, left_y, right_x, right_y)\n",
    "        left_curv, right_curv = get_curv_m(img, left_fit_m, right_fit_m)\n",
    "        left_dist, right_dist = dist2center_m(img, left_fitparam, right_fitparam)\n",
    "\n",
    "        if validate_lane(left_curv, right_curv, left_dist, right_dist, left_fitparam, right_fitparam):\n",
    "            left.update_line(left_x, left_y, left_fitparam, left_xfit, left_curv, left_dist)\n",
    "            right.update_line(right_x, right_y, right_fitparam, right_xfit, right_curv, right_dist)\n",
    "        else:\n",
    "            left.detected = False\n",
    "            right.detected = False\n",
    "    \n",
    "    # Detect vehicles\n",
    "    box_list = []\n",
    "    cars.img = img0\n",
    "    if (cars.frame % 12 == 0):\n",
    "        for ystart, ystop, scale in zip(ystarts, ystops, scales):\n",
    "            _, boxes = find_cars(img0, ystart, ystop, scale,\n",
    "                         svc, X_scaler, orient, pix_per_cell,\n",
    "                         cell_per_block, spatial_size, hist_bins)\n",
    "            box_list.extend(boxes)\n",
    "        car_bbox = apply_heat(img0, box_list)\n",
    "        draw_img = cars.draw_over_frames(car_bbox)\n",
    "\n",
    "    elif (cars.frame % 6 == 0) and (cars.new_ystop > 0):\n",
    "        new_ystops = [cars.new_ystop if x>cars.new_ystop else x for x in ystops]\n",
    "        k = len(scales)\n",
    "        for ystart, ystop, scale in zip(ystarts, new_ystops, scales):\n",
    "            _, boxes = find_cars(img0, ystart, ystop, scale,\n",
    "                         svc, X_scaler, orient, pix_per_cell,\n",
    "                         cell_per_block, spatial_size, hist_bins)\n",
    "            box_list.extend(boxes)\n",
    "        car_bbox = apply_heat(img0, box_list)\n",
    "        draw_img = cars.draw_over_frames(car_bbox)\n",
    "\n",
    "    else:\n",
    "        draw_img = draw_boxes(img0, cars.current_bboxes)\n",
    "\n",
    "    cars.frame += 1\n",
    "    \n",
    "    # Project lane lines\n",
    "    result = project_lines(draw_img, img, Minv, ploty, left.bestx, right.bestx)\n",
    "    curverad = (left.radius_of_curvature + right.radius_of_curvature) / 2\n",
    "    if left.line_base_pos < right.line_base_pos:\n",
    "        str_side = 'left'\n",
    "    else:\n",
    "        str_side = 'right'\n",
    "    dist2center = np.absolute((right.line_base_pos - left.line_base_pos) / 2.)\n",
    "\n",
    "    cv2.putText(result,\n",
    "                'Radius of Curvature = {:.0f}m'.format(curverad),\n",
    "                (100, 50),\n",
    "                fontFace=cv2.FONT_HERSHEY_PLAIN,\n",
    "                fontScale = 4,\n",
    "                color=(255,255,255),\n",
    "                thickness=2,)\n",
    "    cv2.putText(result,\n",
    "                'Vehicle is {:.2f}m {:s} of center'.format(dist2center, str_side),\n",
    "                (100, 100),\n",
    "                fontFace=cv2.FONT_HERSHEY_PLAIN,\n",
    "                fontScale = 4,\n",
    "                color=(255,255,255),\n",
    "                thickness=2,)\n",
    "    return result\n",
    "\n",
    "def process_image(img):\n",
    "    return combo_pipeline(img, mtx, dist, left, right,\n",
    "                  cars, ystarts, ystops, scales,\n",
    "                  svc, X_scaler, orient, pix_per_cell,\n",
    "                  cell_per_block, spatial_size, hist_bins)"
   ]
  },
  {
   "cell_type": "markdown",
   "metadata": {},
   "source": [
    "# Process video"
   ]
  },
  {
   "cell_type": "code",
   "execution_count": 3,
   "metadata": {
    "collapsed": false
   },
   "outputs": [
    {
     "name": "stdout",
     "output_type": "stream",
     "text": [
      "[MoviePy] >>>> Building video combined_output.mp4\n",
      "[MoviePy] Writing video combined_output.mp4\n"
     ]
    },
    {
     "name": "stderr",
     "output_type": "stream",
     "text": [
      "100%|█████████▉| 1260/1261 [07:17<00:00,  1.82it/s]\n"
     ]
    },
    {
     "name": "stdout",
     "output_type": "stream",
     "text": [
      "[MoviePy] Done.\n",
      "[MoviePy] >>>> Video ready: combined_output.mp4 \n",
      "\n",
      "CPU times: user 6min 56s, sys: 54.4 s, total: 7min 51s\n",
      "Wall time: 7min 18s\n"
     ]
    }
   ],
   "source": [
    "cars = Vehicles()\n",
    "left = Line()\n",
    "right = Line()\n",
    "video_output = 'combined_output.mp4'\n",
    "clip1 = VideoFileClip('project_video.mp4')\n",
    "video_clip = clip1.fl_image(process_image)\n",
    "%time video_clip.write_videofile(video_output, audio=False)"
   ]
  },
  {
   "cell_type": "code",
   "execution_count": 4,
   "metadata": {
    "collapsed": false
   },
   "outputs": [
    {
     "data": {
      "text/html": [
       "\n",
       "<video width=\"960\" height=\"540\" controls>\n",
       "  <source src=\"combined_output.mp4\">\n",
       "</video>\n"
      ],
      "text/plain": [
       "<IPython.core.display.HTML object>"
      ]
     },
     "execution_count": 4,
     "metadata": {},
     "output_type": "execute_result"
    }
   ],
   "source": [
    "HTML(\"\"\"\n",
    "<video width=\"960\" height=\"540\" controls>\n",
    "  <source src=\"{0}\">\n",
    "</video>\n",
    "\"\"\".format(video_output))"
   ]
  }
 ],
 "metadata": {
  "anaconda-cloud": {},
  "kernelspec": {
   "display_name": "Python [python3]",
   "language": "python",
   "name": "Python [python3]"
  },
  "language_info": {
   "codemirror_mode": {
    "name": "ipython",
    "version": 3
   },
   "file_extension": ".py",
   "mimetype": "text/x-python",
   "name": "python",
   "nbconvert_exporter": "python",
   "pygments_lexer": "ipython3",
   "version": "3.5.2"
  }
 },
 "nbformat": 4,
 "nbformat_minor": 0
}
